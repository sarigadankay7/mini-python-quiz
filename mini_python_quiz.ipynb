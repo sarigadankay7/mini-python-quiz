{
  "nbformat": 4,
  "nbformat_minor": 0,
  "metadata": {
    "colab": {
      "provenance": [],
      "toc_visible": true,
      "authorship_tag": "ABX9TyPZ4AvWj7gvh9zRLS/YVEXy",
      "include_colab_link": true
    },
    "kernelspec": {
      "name": "python3",
      "display_name": "Python 3"
    },
    "language_info": {
      "name": "python"
    }
  },
  "cells": [
    {
      "cell_type": "markdown",
      "metadata": {
        "id": "view-in-github",
        "colab_type": "text"
      },
      "source": [
        "<a href=\"https://colab.research.google.com/github/sarigadankay7/mini-python-quiz/blob/main/mini_python_quiz.ipynb\" target=\"_parent\"><img src=\"https://colab.research.google.com/assets/colab-badge.svg\" alt=\"Open In Colab\"/></a>"
      ]
    },
    {
      "cell_type": "code",
      "execution_count": null,
      "metadata": {
        "id": "AlGog9zJQHSc"
      },
      "outputs": [],
      "source": [
        "q_and_a = {\n",
        "    \"what is 2+2\": \"4\",\n",
        "    \"who is the father of India\": \"Gandhi ji\",\n",
        "    \"what is the national anthom of India\": \"jana gana man\"\n",
        "}\n",
        "\n",
        "score = 0\n",
        "\n",
        "# First question\n",
        "print(\"Q1:\", \"what is 2+2\")\n",
        "ans1 = input(\"Your answer: \")\n",
        "if ans1 == q_and_a[\"what is 2+2\"]:\n",
        "    print(\"Correct!\")\n",
        "    score = score + 1\n",
        "else:\n",
        "    print(\"Wrong! Correct answer:\", q_and_a[\"what is 2+2\"])\n",
        "\n",
        "# Second question\n",
        "print()\n",
        "print(\"Q2:\", \"who is the father of India\")\n",
        "ans2 = input(\"Your answer: \")\n",
        "if ans2 == q_and_a[\"who is the father of India\"]:\n",
        "    print(\"Correct!\")\n",
        "    score = score + 1\n",
        "else:\n",
        "    print(\"Wrong! Correct answer:\", q_and_a[\"who is the father of India\"])\n",
        "\n",
        "# Third question\n",
        "print()\n",
        "print(\"Q3:\", \"what is the national anthom of India\")\n",
        "ans3 = input(\"Your answer: \")\n",
        "if ans3 == q_and_a[\"what is the national anthom of India\"]:\n",
        "    print(\"Correct!\")\n",
        "    score = score + 1\n",
        "else:\n",
        "    print(\"Wrong! Correct answer:\", q_and_a[\"what is the national anthom of India\"])\n",
        "\n",
        "# Final Score\n",
        "print()\n",
        "print(\"Your total score is\", score, \"out of 3\")\n"
      ]
    }
  ]
}